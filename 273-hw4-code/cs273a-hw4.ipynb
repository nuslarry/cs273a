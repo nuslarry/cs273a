{
 "cells": [
  {
   "cell_type": "markdown",
   "metadata": {},
   "source": [
    "Question 1.1:"
   ]
  },
  {
   "cell_type": "code",
   "execution_count": 2,
   "metadata": {},
   "outputs": [
    {
     "name": "stdout",
     "output_type": "stream",
     "text": [
      "entropy H(y)= 0.9709505944546687\n"
     ]
    }
   ],
   "source": [
    "import numpy as np\n",
    "import matplotlib.pyplot as plt\n",
    "import mltools as ml\n",
    "import math as math\n",
    "entropy_y = 0.6*math.log(10/6.0,2) + 0.4*math.log(10/4.0,2)\n",
    "print(\"entropy H(y)=\",entropy_y)"
   ]
  },
  {
   "cell_type": "markdown",
   "metadata": {},
   "source": [
    "Question 1.2:"
   ]
  },
  {
   "cell_type": "code",
   "execution_count": 3,
   "metadata": {},
   "outputs": [
    {
     "name": "stdout",
     "output_type": "stream",
     "text": [
      "Information gain for feature 1:, 0.0464\n",
      "Information gain for feature 2:, 0.6100\n",
      "Information gain for feature 3:, 0.0058\n"
     ]
    }
   ],
   "source": [
    "# x1 information gain \n",
    "entropy_1_1 = (3.0/6)*math.log(6.0/3,2) + (3.0/6)*math.log(6.0/3,2)\n",
    "entropy_1_0 = (3.0/4)*math.log(4.0/3,2) + (1.0/4)*math.log(4.0,2)\n",
    "information_gain_1 = (6.0/10)*(entropy_y - entropy_1_1) + (4.0/10)*(entropy_y - entropy_1_0)\n",
    "print('Information gain for feature 1:, %0.4f' %(information_gain_1))\n",
    "\n",
    "# x2 information gain \n",
    "ent_2_1 = (5.0/5)*math.log(5.0/5,2)\n",
    "ent_2_0 = (4.0/5)*math.log(5.0/4,2) + (1.0/5)*math.log(5.0,2)\n",
    "information_gain_2 = (5.0/10)*(entropy_y - ent_2_1) + (5.0/10)*(entropy_y - ent_2_0)\n",
    "print('Information gain for feature 2:, %0.4f' %(information_gain_2))\n",
    "\n",
    "# x3 information gain \n",
    "ent_3_1 = (3.0/7)*math.log(7.0/3,2) + (4.0/7)*math.log(7.0/4,2)\n",
    "ent_3_0 = (1.0/3)*math.log(3.0,2) + (2.0/3)*math.log(3.0/2,2)\n",
    "information_gain_3 = (7.0/10)*(entropy_y - ent_3_1) + (3.0/10)*(entropy_y - ent_3_0)\n",
    "print('Information gain for feature 3:, %0.4f' %(information_gain_3))\n"
   ]
  },
  {
   "cell_type": "code",
   "execution_count": 4,
   "metadata": {},
   "outputs": [
    {
     "name": "stdout",
     "output_type": "stream",
     "text": [
      "Information gain for feature 4:, 0.0913\n",
      "Information gain for feature 5:, 0.0058\n"
     ]
    }
   ],
   "source": [
    "# x4 information gain \n",
    "ent_4_1 = (2.0/7)*math.log(7.0/2,2) + (5.0/7)*math.log(7.0/5,2)\n",
    "ent_4_0 = (2.0/3)*math.log(3.0/2,2) + (1.0/3)*math.log(3.0,2)\n",
    "information_gain_4 = (7.0/10)*(entropy_y - ent_4_1) + (3.0/10)*(entropy_y - ent_4_0)\n",
    "print('Information gain for feature 4:, %0.4f' %(information_gain_4))\n",
    "\n",
    "# x5 information gain \n",
    "ent_5_1 = (1.0/3)*math.log(3.0,2) + (2.0/3)*math.log(3.0/2,2)\n",
    "ent_5_0 = (3.0/7)*math.log(7.0/3,2) + (4.0/7)*math.log(7.0/4,2)\n",
    "information_gain_5 = (3.0/10)*(entropy_y - ent_5_1) + (7.0/10)*(entropy_y - ent_5_0)\n",
    "print('Information gain for feature 5:, %0.4f' %(information_gain_5))"
   ]
  },
  {
   "cell_type": "markdown",
   "metadata": {},
   "source": [
    "I should split on variable 2 for the root node of the decision tree since it has the highest Information gain 0.6100"
   ]
  },
  {
   "cell_type": "markdown",
   "metadata": {},
   "source": [
    "Question 1.3:\n",
    "<img src=\"q1.3.png\" alt=\"Drawing\" style=\"width:550px;height:340px\"/>"
   ]
  },
  {
   "cell_type": "markdown",
   "metadata": {},
   "source": [
    "Question 2.1:"
   ]
  },
  {
   "cell_type": "code",
   "execution_count": 25,
   "metadata": {},
   "outputs": [
    {
     "name": "stdout",
     "output_type": "stream",
     "text": [
      "minimum of x0:, 197.0000\n",
      "maximum of x0:, 253.0000\n",
      "mean of x0:, 241.8990\n",
      "mean of x0:, 81.1988\n",
      "\n",
      "minimum of x1:, 197.0000\n",
      "maximum of x1:, 253.0000\n",
      "mean of x1:, 241.8990\n",
      "mean of x1:, 81.1988\n",
      "\n",
      "minimum of x2:, 197.0000\n",
      "maximum of x2:, 253.0000\n",
      "mean of x2:, 241.8990\n",
      "mean of x2:, 81.1988\n",
      "\n",
      "minimum of x3:, 197.0000\n",
      "maximum of x3:, 253.0000\n",
      "mean of x3:, 241.8990\n",
      "mean of x3:, 81.1988\n",
      "\n",
      "minimum of x4:, 197.0000\n",
      "maximum of x4:, 253.0000\n",
      "mean of x4:, 241.8990\n",
      "mean of x4:, 81.1988\n",
      "\n",
      "minimum of x5:, 197.0000\n",
      "maximum of x5:, 253.0000\n",
      "mean of x5:, 241.8990\n",
      "mean of x5:, 81.1988\n",
      "\n",
      "minimum of x6:, 197.0000\n",
      "maximum of x6:, 253.0000\n",
      "mean of x6:, 241.8990\n",
      "mean of x6:, 81.1988\n",
      "\n",
      "minimum of x7:, 197.0000\n",
      "maximum of x7:, 253.0000\n",
      "mean of x7:, 241.8990\n",
      "mean of x7:, 81.1988\n",
      "\n",
      "minimum of x8:, 197.0000\n",
      "maximum of x8:, 253.0000\n",
      "mean of x8:, 241.8990\n",
      "mean of x8:, 81.1988\n",
      "\n",
      "minimum of x9:, 197.0000\n",
      "maximum of x9:, 253.0000\n",
      "mean of x9:, 241.8990\n",
      "mean of x9:, 81.1988\n",
      "\n",
      "minimum of x10:, 197.0000\n",
      "maximum of x10:, 253.0000\n",
      "mean of x10:, 241.8990\n",
      "mean of x10:, 81.1988\n",
      "\n",
      "minimum of x11:, 197.0000\n",
      "maximum of x11:, 253.0000\n",
      "mean of x11:, 241.8990\n",
      "mean of x11:, 81.1988\n",
      "\n",
      "minimum of x12:, 197.0000\n",
      "maximum of x12:, 253.0000\n",
      "mean of x12:, 241.8990\n",
      "mean of x12:, 81.1988\n",
      "\n",
      "minimum of x13:, 197.0000\n",
      "maximum of x13:, 253.0000\n",
      "mean of x13:, 241.8990\n",
      "mean of x13:, 81.1988\n",
      "\n"
     ]
    }
   ],
   "source": [
    "xt = np.genfromtxt('data/X_train.txt', delimiter=None)\n",
    "yt = np.genfromtxt('data/Y_train.txt', delimiter=None)\n",
    "xt,yt = ml.shuffleData(xt,yt)\n",
    "for i in range(xt.shape[1]):\n",
    "    print('minimum of x%d:, %0.4f' %(i,min(xt[:,0])))\n",
    "    print('maximum of x%d:, %0.4f' %(i,max(xt[:,0])))\n",
    "    print('mean of x%d:, %0.4f' %(i,np.mean(xt[:,0])))\n",
    "    print('mean of x%d:, %0.4f' %(i,np.var(xt[:,0])))\n",
    "    print()"
   ]
  },
  {
   "cell_type": "markdown",
   "metadata": {},
   "source": [
    "Question 2.2"
   ]
  },
  {
   "cell_type": "code",
   "execution_count": 6,
   "metadata": {},
   "outputs": [
    {
     "name": "stdout",
     "output_type": "stream",
     "text": [
      "Training Error:, 0.0092\n",
      "Validation Error:, 0.3711\n"
     ]
    }
   ],
   "source": [
    "xt_0_10000 = xt[0:10000]\n",
    "yt_0_10000 = yt[0:10000]\n",
    "xv_10000_20000 = xt[10000:20000]\n",
    "yv_10000_20000 = yt[10000:20000]\n",
    "# training\n",
    "dt = ml.dtree.treeClassify(xt_0_10000, yt_0_10000, maxDepth = 50)\n",
    "yt_0_10000_hat = dt.predict(xt_0_10000)\n",
    "yv_10000_20000_hat = dt.predict(xv_10000_20000)\n",
    "#output\n",
    "print('Training Error:, %0.4f' %(np.sum(yt_0_10000!=yt_0_10000_hat)/yt_0_10000.shape[0]))\n",
    "print('Validation Error:, %0.4f' %(np.sum(yv_10000_20000!=yv_10000_20000_hat)/yv_10000_20000.shape[0]))"
   ]
  },
  {
   "cell_type": "markdown",
   "metadata": {},
   "source": [
    "question 2.3"
   ]
  },
  {
   "cell_type": "code",
   "execution_count": 22,
   "metadata": {},
   "outputs": [
    {
     "data": {
      "image/png": "[encoded data removed]",
      "text/plain": [
       "<Figure size 432x288 with 1 Axes>"
      ]
     },
     "metadata": {
      "needs_background": "light"
     },
     "output_type": "display_data"
    }
   ],
   "source": [
    "training_errs=[]\n",
    "validation_errs=[]\n",
    "for depth in range(16):\n",
    "    dt = ml.dtree.treeClassify(xt_0_10000, yt_0_10000, maxDepth = depth)\n",
    "    yt_0_10000_hat = dt.predict(xt_0_10000)\n",
    "    yv_10000_20000_hat = dt.predict(xv_10000_20000)\n",
    "    training_err=np.sum(yt_0_10000!=yt_0_10000_hat)/yt_0_10000.shape[0]\n",
    "    validation_err=np.sum(yv_10000_20000!=yv_10000_20000_hat)/yv_10000_20000.shape[0]\n",
    "    training_errs.append(training_err)\n",
    "    validation_errs.append(validation_err)\n",
    "    \n",
    "#print(\"training_errs.shape=\",training_errs)\n",
    "plt.plot(range(16), training_errs, 'b-', linewidth=2, label='training')\n",
    "plt.plot(range(16), validation_errs, 'g-', linewidth=2, label='validation')\n",
    "plt.legend(loc='lower left')\n",
    "plt.xlabel('Depth')\n",
    "plt.ylabel('Error')\n",
    "plt.show()"
   ]
  },
  {
   "cell_type": "code",
   "execution_count": 21,
   "metadata": {},
   "outputs": [
    {
     "data": {
      "image/png": "[encoded data removed]",
      "text/plain": [
       "<Figure size 432x288 with 1 Axes>"
      ]
     },
     "metadata": {
      "needs_background": "light"
     },
     "output_type": "display_data"
    }
   ],
   "source": [
    "#question 2.4\n",
    "training_errs=[]\n",
    "validation_errs=[]\n",
    "for mp in 2**np.arange(2,12+1,1):\n",
    "    dt = ml.dtree.treeClassify(xt_0_10000, yt_0_10000, maxDepth = 50, minParent=mp)\n",
    "    yt_0_10000_hat = dt.predict(xt_0_10000)\n",
    "    yv_10000_20000_hat = dt.predict(xv_10000_20000)\n",
    "    training_err=np.sum(yt_0_10000!=yt_0_10000_hat)/yt_0_10000.shape[0]\n",
    "    validation_err=np.sum(yv_10000_20000!=yv_10000_20000_hat)/yv_10000_20000.shape[0]\n",
    "    training_errs.append(training_err)\n",
    "    validation_errs.append(validation_err)    \n",
    "    \n",
    "plt.plot(2**np.arange(2,12+1,1), training_errs, 'b-', linewidth=2, label='training')\n",
    "plt.plot(2**np.arange(2,12+1,1), validation_errs, 'g-', linewidth=2, label='validation')\n",
    "plt.xscale('log',basex=2)\n",
    "plt.xlabel('minParent')\n",
    "plt.ylabel('Error')\n",
    "plt.legend(loc='lower right')\n",
    "plt.show()"
   ]
  },
  {
   "cell_type": "markdown",
   "metadata": {},
   "source": [
    "Question 2.6"
   ]
  },
  {
   "cell_type": "code",
   "execution_count": 19,
   "metadata": {},
   "outputs": [
    {
     "name": "stdout",
     "output_type": "stream",
     "text": [
      "training AUC Score:, 0.7778\n",
      "validation AUC Score:, 0.6605\n"
     ]
    },
    {
     "data": {
      "image/png": "[encoded data removed]",
      "text/plain": [
       "<Figure size 432x288 with 1 Axes>"
      ]
     },
     "metadata": {
      "needs_background": "light"
     },
     "output_type": "display_data"
    }
   ],
   "source": [
    "from sklearn.metrics import roc_curve, auc  ###计算roc和auc\n",
    "dt = ml.dtree.treeClassify(xt_0_10000, yt_0_10000, maxDepth = 9)\n",
    "fpr, tpr, tnr = dt.roc(xt_0_10000, yt_0_10000)\n",
    "plt.plot(fpr, tpr, 'r-', linewidth = 1,label='training ROC')\n",
    "plt.xlabel('fpr')\n",
    "plt.ylabel('tpr')\n",
    "print('training AUC Score:, %0.4f' %(dt.auc(xt_0_10000, yt_0_10000)))\n",
    "fpr, tpr, tnr = dt.roc(xv_10000_20000, yv_10000_20000)\n",
    "plt.plot(fpr, tpr, 'b-', linewidth = 1,label='validation ROC')\n",
    "plt.xlabel('fpr')\n",
    "plt.ylabel('tpr')\n",
    "print('validation AUC Score:, %0.4f' %(dt.auc(xv_10000_20000, yv_10000_20000)))\n",
    "plt.legend(loc='upper left')\n",
    "plt.show()"
   ]
  },
  {
   "cell_type": "markdown",
   "metadata": {},
   "source": [
    "Question 2.7"
   ]
  },
  {
   "cell_type": "code",
   "execution_count": 35,
   "metadata": {},
   "outputs": [
    {
     "name": "stdout",
     "output_type": "stream",
     "text": [
      "Test Error:, 0.3176\n",
      "Test AUC Score:, 0.6671\n"
     ]
    }
   ],
   "source": [
    "xtest = np.genfromtxt('data/X_test.txt', delimiter=None)\n",
    "ytest = np.genfromtxt('data/Y_test.txt', delimiter=None)\n",
    "# training\n",
    "dt = ml.dtree.treeClassify(xt, yt, maxDepth = 9, minParent=2**7)\n",
    "ytest_hat = dt.predict(xtest)\n",
    "#output\n",
    "print('Test Error:, %0.4f' %(np.sum(ytest!=ytest_hat)/ytest.shape[0]))\n",
    "fpr, tpr, tnr = dt.roc(xtest, ytest)\n",
    "print('Test AUC Score:, %0.4f' %(dt.auc(xtest, ytest)))"
   ]
  },
  {
   "cell_type": "code",
   "execution_count": 23,
   "metadata": {},
   "outputs": [
    {
     "name": "stdout",
     "output_type": "stream",
     "text": [
      "256\n"
     ]
    }
   ],
   "source": []
  },
  {
   "cell_type": "code",
   "execution_count": null,
   "metadata": {},
   "outputs": [],
   "source": []
  }
 ],
 "metadata": {
  "kernelspec": {
   "display_name": "Python 3",
   "language": "python",
   "name": "python3"
  },
  "language_info": {
   "codemirror_mode": {
    "name": "ipython",
    "version": 3
   },
   "file_extension": ".py",
   "mimetype": "text/x-python",
   "name": "python",
   "nbconvert_exporter": "python",
   "pygments_lexer": "ipython3",
   "version": "3.6.8"
  }
 },
 "nbformat": 4,
 "nbformat_minor": 2
}
