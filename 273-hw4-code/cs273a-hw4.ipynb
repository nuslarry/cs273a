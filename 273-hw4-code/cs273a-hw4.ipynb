{
 "cells": [
  {
   "cell_type": "markdown",
   "metadata": {},
   "source": [
    "Question 1.1:"
   ]
  },
  {
   "cell_type": "code",
   "execution_count": 27,
   "metadata": {},
   "outputs": [
    {
     "name": "stdout",
     "output_type": "stream",
     "text": [
      "entropy H(y)= 0.9709505944546687\n"
     ]
    }
   ],
   "source": [
    "import numpy as np\n",
    "import matplotlib.pyplot as plt\n",
    "import mltools as ml\n",
    "import math as math\n",
    "entropy_y = 0.6*math.log(10/6.0,2) + 0.4*math.log(10/4.0,2)\n",
    "print(\"entropy H(y)=\",entropy_y)"
   ]
  },
  {
   "cell_type": "markdown",
   "metadata": {},
   "source": [
    "Question 1.2:"
   ]
  },
  {
   "cell_type": "code",
   "execution_count": 30,
   "metadata": {},
   "outputs": [
    {
     "name": "stdout",
     "output_type": "stream",
     "text": [
      "Information gain for feature 1:, 0.0464\n",
      "Information gain for feature 2:, 0.6100\n",
      "Information gain for feature 3:, 0.0058\n"
     ]
    }
   ],
   "source": [
    "# x1 information gain \n",
    "entropy_1_1 = (3.0/6)*math.log(6.0/3,2) + (3.0/6)*math.log(6.0/3,2)\n",
    "entropy_1_0 = (3.0/4)*math.log(4.0/3,2) + (1.0/4)*math.log(4.0,2)\n",
    "information_gain_1 = (6.0/10)*(entropy_y - entropy_1_1) + (4.0/10)*(entropy_y - entropy_1_0)\n",
    "print('Information gain for feature 1:, %0.4f' %(information_gain_1))\n",
    "\n",
    "# x2 information gain \n",
    "ent_2_1 = (5.0/5)*math.log(5.0/5,2)\n",
    "ent_2_0 = (4.0/5)*math.log(5.0/4,2) + (1.0/5)*math.log(5.0,2)\n",
    "information_gain_2 = (5.0/10)*(entropy_y - ent_2_1) + (5.0/10)*(entropy_y - ent_2_0)\n",
    "print('Information gain for feature 2:, %0.4f' %(information_gain_2))\n",
    "\n",
    "# x3 information gain \n",
    "ent_3_1 = (3.0/7)*math.log(7.0/3,2) + (4.0/7)*math.log(7.0/4,2)\n",
    "ent_3_0 = (1.0/3)*math.log(3.0,2) + (2.0/3)*math.log(3.0/2,2)\n",
    "information_gain_3 = (7.0/10)*(entropy_y - ent_3_1) + (3.0/10)*(entropy_y - ent_3_0)\n",
    "print('Information gain for feature 3:, %0.4f' %(information_gain_3))\n"
   ]
  },
  {
   "cell_type": "code",
   "execution_count": 31,
   "metadata": {},
   "outputs": [
    {
     "name": "stdout",
     "output_type": "stream",
     "text": [
      "Information gain for feature 4:, 0.0913\n",
      "Information gain for feature 5:, 0.0058\n"
     ]
    }
   ],
   "source": [
    "# x4 information gain \n",
    "ent_4_1 = (2.0/7)*math.log(7.0/2,2) + (5.0/7)*math.log(7.0/5,2)\n",
    "ent_4_0 = (2.0/3)*math.log(3.0/2,2) + (1.0/3)*math.log(3.0,2)\n",
    "information_gain_4 = (7.0/10)*(entropy_y - ent_4_1) + (3.0/10)*(entropy_y - ent_4_0)\n",
    "print('Information gain for feature 4:, %0.4f' %(information_gain_4))\n",
    "\n",
    "# x5 information gain \n",
    "ent_5_1 = (1.0/3)*math.log(3.0,2) + (2.0/3)*math.log(3.0/2,2)\n",
    "ent_5_0 = (3.0/7)*math.log(7.0/3,2) + (4.0/7)*math.log(7.0/4,2)\n",
    "information_gain_5 = (3.0/10)*(entropy_y - ent_5_1) + (7.0/10)*(entropy_y - ent_5_0)\n",
    "print('Information gain for feature 5:, %0.4f' %(information_gain_5))"
   ]
  },
  {
   "cell_type": "markdown",
   "metadata": {},
   "source": [
    "I should split on variable 2 for the root node of the decision tree since it has the highest Information gain 0.6100"
   ]
  },
  {
   "cell_type": "markdown",
   "metadata": {},
   "source": [
    "Question 1.3:\n",
    "<img src=\"q1.3.png\" alt=\"Drawing\" style=\"width:550px;height:340px\"/>"
   ]
  },
  {
   "cell_type": "markdown",
   "metadata": {},
   "source": [
    "Question 2.1:"
   ]
  },
  {
   "cell_type": "code",
   "execution_count": 29,
   "metadata": {},
   "outputs": [
    {
     "name": "stdout",
     "output_type": "stream",
     "text": [
      "minimum of x0:, 197.0000\n",
      "maximum of x0:, 253.0000\n",
      "mean of x0:, 241.8990\n",
      "mean of x0:, 81.1988\n",
      "\n",
      "minimum of x1:, 197.0000\n",
      "maximum of x1:, 253.0000\n",
      "mean of x1:, 241.8990\n",
      "mean of x1:, 81.1988\n",
      "\n",
      "minimum of x2:, 197.0000\n",
      "maximum of x2:, 253.0000\n",
      "mean of x2:, 241.8990\n",
      "mean of x2:, 81.1988\n",
      "\n",
      "minimum of x3:, 197.0000\n",
      "maximum of x3:, 253.0000\n",
      "mean of x3:, 241.8990\n",
      "mean of x3:, 81.1988\n",
      "\n",
      "minimum of x4:, 197.0000\n",
      "maximum of x4:, 253.0000\n",
      "mean of x4:, 241.8990\n",
      "mean of x4:, 81.1988\n",
      "\n",
      "minimum of x5:, 197.0000\n",
      "maximum of x5:, 253.0000\n",
      "mean of x5:, 241.8990\n",
      "mean of x5:, 81.1988\n",
      "\n",
      "minimum of x6:, 197.0000\n",
      "maximum of x6:, 253.0000\n",
      "mean of x6:, 241.8990\n",
      "mean of x6:, 81.1988\n",
      "\n",
      "minimum of x7:, 197.0000\n",
      "maximum of x7:, 253.0000\n",
      "mean of x7:, 241.8990\n",
      "mean of x7:, 81.1988\n",
      "\n",
      "minimum of x8:, 197.0000\n",
      "maximum of x8:, 253.0000\n",
      "mean of x8:, 241.8990\n",
      "mean of x8:, 81.1988\n",
      "\n",
      "minimum of x9:, 197.0000\n",
      "maximum of x9:, 253.0000\n",
      "mean of x9:, 241.8990\n",
      "mean of x9:, 81.1988\n",
      "\n",
      "minimum of x10:, 197.0000\n",
      "maximum of x10:, 253.0000\n",
      "mean of x10:, 241.8990\n",
      "mean of x10:, 81.1988\n",
      "\n",
      "minimum of x11:, 197.0000\n",
      "maximum of x11:, 253.0000\n",
      "mean of x11:, 241.8990\n",
      "mean of x11:, 81.1988\n",
      "\n",
      "minimum of x12:, 197.0000\n",
      "maximum of x12:, 253.0000\n",
      "mean of x12:, 241.8990\n",
      "mean of x12:, 81.1988\n",
      "\n",
      "minimum of x13:, 197.0000\n",
      "maximum of x13:, 253.0000\n",
      "mean of x13:, 241.8990\n",
      "mean of x13:, 81.1988\n",
      "\n"
     ]
    }
   ],
   "source": [
    "xt = np.genfromtxt('data/X_train.txt', delimiter=None)\n",
    "yt = np.genfromtxt('data/Y_train.txt', delimiter=None)\n",
    "xt,yt = ml.shuffleData(xt,yt)\n",
    "for i in range(X.shape[1]):\n",
    "    print('minimum of x%d:, %0.4f' %(i,min(xt[:,0])))\n",
    "    print('maximum of x%d:, %0.4f' %(i,max(xt[:,0])))\n",
    "    print('mean of x%d:, %0.4f' %(i,np.mean(xt[:,0])))\n",
    "    print('mean of x%d:, %0.4f' %(i,np.var(xt[:,0])))\n",
    "    print()"
   ]
  },
  {
   "cell_type": "code",
   "execution_count": null,
   "metadata": {},
   "outputs": [],
   "source": []
  }
 ],
 "metadata": {
  "kernelspec": {
   "display_name": "Python 3",
   "language": "python",
   "name": "python3"
  },
  "language_info": {
   "codemirror_mode": {
    "name": "ipython",
    "version": 3
   },
   "file_extension": ".py",
   "mimetype": "text/x-python",
   "name": "python",
   "nbconvert_exporter": "python",
   "pygments_lexer": "ipython3",
   "version": "3.6.8"
  }
 },
 "nbformat": 4,
 "nbformat_minor": 2
}
